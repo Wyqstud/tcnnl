{
 "cells": [
  {
   "cell_type": "code",
   "execution_count": 11,
   "metadata": {},
   "outputs": [],
   "source": [
    "import os\n",
    "\n",
    "def ListFile(filepath):\n",
    "    FileNames = []\n",
    "    files = os.listdir(filepath)\n",
    "    for file in files:\n",
    "        file = os.path.join(filepath, file)\n",
    "        suffix = file.split('.')[-1]\n",
    "        if suffix == 'pth':\n",
    "            FileNames.append(os.path.join(filepath, file))\n",
    "    return FileNames "
   ]
  },
  {
   "cell_type": "code",
   "execution_count": 12,
   "metadata": {},
   "outputs": [
    {
     "name": "stdout",
     "output_type": "stream",
     "text": [
      "pth\n",
      "pth\n",
      "pth\n",
      "pth\n",
      "pth\n",
      "pth\n",
      "pth\n",
      "pth\n",
      "pth\n",
      "pth\n",
      "pth\n",
      "pth\n",
      "pth\n",
      "pth\n",
      "pth\n",
      "pth\n",
      "pth\n",
      "pth\n",
      "pth\n",
      "pth\n",
      "pth\n",
      "pth\n",
      "pth\n",
      "pth\n",
      "txt\n",
      "pth\n",
      "pth\n",
      "pth\n",
      "pth\n",
      "['/home/wyq/exp/ablation experiment/2021-09-19_18-11-55/rank1_0.9080808_checkpoint_ep500.pth', '/home/wyq/exp/ablation experiment/2021-09-19_18-11-55/rank1_0.90858585_checkpoint_ep330.pth', '/home/wyq/exp/ablation experiment/2021-09-19_18-11-55/rank1_0.90656567_checkpoint_ep250.pth', '/home/wyq/exp/ablation experiment/2021-09-19_18-11-55/rank1_0.90656567_checkpoint_ep480.pth', '/home/wyq/exp/ablation experiment/2021-09-19_18-11-55/rank1_0.9060606_checkpoint_ep470.pth', '/home/wyq/exp/ablation experiment/2021-09-19_18-11-55/rank1_0.90909094_checkpoint_ep440.pth', '/home/wyq/exp/ablation experiment/2021-09-19_18-11-55/rank1_0.90555555_checkpoint_ep300.pth', '/home/wyq/exp/ablation experiment/2021-09-19_18-11-55/rank1_0.90656567_checkpoint_ep380.pth', '/home/wyq/exp/ablation experiment/2021-09-19_18-11-55/rank1_0.9070707_checkpoint_ep420.pth', '/home/wyq/exp/ablation experiment/2021-09-19_18-11-55/rank1_0.9075758_checkpoint_ep310.pth', '/home/wyq/exp/ablation experiment/2021-09-19_18-11-55/rank1_0.90656567_checkpoint_ep400.pth', '/home/wyq/exp/ablation experiment/2021-09-19_18-11-55/rank1_0.9075758_checkpoint_ep460.pth', '/home/wyq/exp/ablation experiment/2021-09-19_18-11-55/rank1_0.9080808_checkpoint_ep490.pth', '/home/wyq/exp/ablation experiment/2021-09-19_18-11-55/rank1_0.9075758_checkpoint_ep280.pth', '/home/wyq/exp/ablation experiment/2021-09-19_18-11-55/rank1_0.90555555_checkpoint_ep340.pth', '/home/wyq/exp/ablation experiment/2021-09-19_18-11-55/rank1_0.90959597_checkpoint_ep240.pth', '/home/wyq/exp/ablation experiment/2021-09-19_18-11-55/rank1_0.9070707_checkpoint_ep320.pth', '/home/wyq/exp/ablation experiment/2021-09-19_18-11-55/rank1_0.9070707_checkpoint_ep410.pth', '/home/wyq/exp/ablation experiment/2021-09-19_18-11-55/rank1_0.90656567_checkpoint_ep370.pth', '/home/wyq/exp/ablation experiment/2021-09-19_18-11-55/rank1_0.9075758_checkpoint_ep230.pth', '/home/wyq/exp/ablation experiment/2021-09-19_18-11-55/rank1_0.9080808_checkpoint_ep390.pth', '/home/wyq/exp/ablation experiment/2021-09-19_18-11-55/rank1_0.9030303_checkpoint_ep290.pth', '/home/wyq/exp/ablation experiment/2021-09-19_18-11-55/rank1_0.9075758_checkpoint_ep450.pth', '/home/wyq/exp/ablation experiment/2021-09-19_18-11-55/rank1_0.90656567_checkpoint_ep350.pth', '/home/wyq/exp/ablation experiment/2021-09-19_18-11-55/rank1_0.9075758_checkpoint_ep430.pth', '/home/wyq/exp/ablation experiment/2021-09-19_18-11-55/rank1_0.9050505_checkpoint_ep270.pth', '/home/wyq/exp/ablation experiment/2021-09-19_18-11-55/rank1_0.9020202_checkpoint_ep260.pth', '/home/wyq/exp/ablation experiment/2021-09-19_18-11-55/rank1_0.90656567_checkpoint_ep360.pth']\n"
     ]
    }
   ],
   "source": [
    "names = ListFile('/home/wyq/exp/ablation experiment/2021-09-19_18-11-55')\n",
    "print(names)"
   ]
  },
  {
   "cell_type": "code",
   "execution_count": null,
   "metadata": {},
   "outputs": [],
   "source": []
  },
  {
   "cell_type": "code",
   "execution_count": null,
   "metadata": {},
   "outputs": [],
   "source": []
  },
  {
   "cell_type": "code",
   "execution_count": null,
   "metadata": {},
   "outputs": [],
   "source": []
  },
  {
   "cell_type": "code",
   "execution_count": null,
   "metadata": {},
   "outputs": [],
   "source": []
  },
  {
   "cell_type": "code",
   "execution_count": null,
   "metadata": {},
   "outputs": [],
   "source": []
  },
  {
   "cell_type": "code",
   "execution_count": null,
   "metadata": {},
   "outputs": [],
   "source": []
  }
 ],
 "metadata": {
  "kernelspec": {
   "display_name": "Python 3",
   "language": "python",
   "name": "python3"
  },
  "language_info": {
   "codemirror_mode": {
    "name": "ipython",
    "version": 3
   },
   "file_extension": ".py",
   "mimetype": "text/x-python",
   "name": "python",
   "nbconvert_exporter": "python",
   "pygments_lexer": "ipython3",
   "version": "3.7.7"
  }
 },
 "nbformat": 4,
 "nbformat_minor": 4
}
