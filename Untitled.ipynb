{
 "cells": [
  {
   "cell_type": "markdown",
   "metadata": {},
   "source": [
    "# 驗證 `model_complexity` 的運算問題"
   ]
  },
  {
   "cell_type": "code",
   "execution_count": 1,
   "metadata": {},
   "outputs": [],
   "source": [
    "from model_complexity import compute_model_complexity\n",
    "from torch import nn\n",
    "from torch.nn import functional as F\n",
    "\n",
    "class build_model(nn.Module):\n",
    "    def __init__(self):\n",
    "        super(build_model, self).__init__()\n",
    "        \n",
    "        self.conv = nn.Conv2d(in_channels=1024, out_channels=128, \n",
    "                              kernel_size=1, stride=1, padding=0,\n",
    "                              bias=True)\n",
    "        self.bn = nn.BatchNorm2d(128)\n",
    "        self.relu = nn.ReLU(inplace=True)\n",
    "        \n",
    "    def forward(self, x):\n",
    "        x_1 = x[0, :, :, :]\n",
    "        x_2 = x[1, :, :, :]\n",
    "        inter_x = torch.matmul(x_1, x_2.permute(0, 2, 1)).unsqueeze(0)\n",
    "        print(inter_x.size())\n",
    "        x = self.conv(inter_x)\n",
    "        x = self.bn(x)\n",
    "        return self.relu(x)"
   ]
  },
  {
   "cell_type": "code",
   "execution_count": 2,
   "metadata": {},
   "outputs": [
    {
     "name": "stdout",
     "output_type": "stream",
     "text": [
      "torch.Size([1, 1024, 16, 16])\n",
      "  -------------------------------------------------------\n",
      "  Model complexity with input size torch.Size([2, 1024, 16, 8])\n",
      "  -------------------------------------------------------\n",
      "  Conv2d (params=131,200, flops=33,587,200)\n",
      "  BatchNorm2d (params=256, flops=0)\n",
      "  ReLU (params=0, flops=0)\n",
      "  -------------------------------------------------------\n",
      "  Total (params=131,456, flops=33,587,200)\n",
      "  -------------------------------------------------------\n",
      "torch.Size([1, 1024, 16, 16])\n"
     ]
    }
   ],
   "source": [
    "import torch\n",
    "\n",
    "model = build_model()\n",
    "x = torch.randn(2, 1024, 16, 8)\n",
    "num_params, flops = compute_model_complexity(model, x.size(), verbose=True)\n",
    "s = model(x)"
   ]
  },
  {
   "cell_type": "code",
   "execution_count": 10,
   "metadata": {},
   "outputs": [
    {
     "name": "stdout",
     "output_type": "stream",
     "text": [
      "Build 0 layer mutual spatial attention!\n",
      "Build 0 layer mutual channel attention!\n",
      "Build 0 layer appearance spatial attention!\n",
      "Build 0 layer appearacne channel attention!\n",
      "  -------------------------------------------------------\n",
      "  Model complexity with input size (1, 2, 1024, 16, 8)\n",
      "  -------------------------------------------------------\n",
      "  AdaptiveAvgPool2d (params=0, flops=0)\n",
      "  Conv2d (params=2,130,560, flops=528,580,608)\n",
      "  BatchNorm2d (params=6,406, flops=0)\n",
      "  ReLU (params=0, flops=0)\n",
      "  Conv1d (params=131,072, flops=262,144)\n",
      "  Linear (params=856,576, flops=856,576)\n",
      "  Sigmoid (params=0, flops=0)\n",
      "  -------------------------------------------------------\n",
      "  Total (params=3,124,614, flops=529,699,328)\n",
      "  -------------------------------------------------------\n"
     ]
    }
   ],
   "source": [
    "from models.AATM import AATM\n",
    "\n",
    "model = AATM(inplanes=1024, mid_planes=256, num='0')\n",
    "params, flops = compute_model_complexity(model, (1, 2, 1024, 16, 8), verbose=True)\n"
   ]
  },
  {
   "cell_type": "code",
   "execution_count": 15,
   "metadata": {},
   "outputs": [],
   "source": [
    "conv = nn.Conv2d(in_channels=10, out_channels=12, kernel_size=1, stride=1, padding=0)\n",
    "input = torch.randn(1, 10, 3, 3)\n",
    "from thop import profile"
   ]
  },
  {
   "cell_type": "code",
   "execution_count": 19,
   "metadata": {},
   "outputs": [
    {
     "name": "stdout",
     "output_type": "stream",
     "text": [
      "[INFO] Register count_convNd() for <class 'torch.nn.modules.conv.Conv2d'>.\n"
     ]
    },
    {
     "data": {
      "text/plain": [
       "(0, 0)"
      ]
     },
     "execution_count": 19,
     "metadata": {},
     "output_type": "execute_result"
    }
   ],
   "source": [
    "profile(conv, inputs=(input,))\n"
   ]
  },
  {
   "cell_type": "code",
   "execution_count": 108,
   "metadata": {},
   "outputs": [],
   "source": [
    "class build_model(nn.Module):\n",
    "    def __init__(self):\n",
    "        super(build_model, self).__init__()\n",
    "        self.sigmoid = nn.Sigmoid()\n",
    "        self.relu = nn.ReLU(True)\n",
    "        \n",
    "#         self.conv = nn.Sequential(nn.Conv1d(in_channels=1024, out_channels=128, \n",
    "#                                           kernel_size=1, stride=1, padding=0,\n",
    "#                                          bias=False),\n",
    "#                                 nn.Conv2d(in_channels=512, out_channels=128,\n",
    "#                                          kernel_size=1, stride=1, padding=0,\n",
    "#                                          bias=False)\n",
    "#                              )\n",
    "        \n",
    "        self.L1 = nn.Linear(in_features=1024, out_features=128)\n",
    "#                 nn.ReLU(),\n",
    "        self.L2 = nn.Linear(in_features=128, out_features=1024)\n",
    "#                 nn.Sigmoid()            \n",
    "#         self.bn = nn.BatchNorm2d(128)\n",
    "#         self.relu = nn.ReLU(inplace=\n",
    "        \n",
    "    def forward(self, x):\n",
    "        x = self.L1(x)\n",
    "        x = self.L2(x)\n",
    "        return x"
   ]
  },
  {
   "cell_type": "code",
   "execution_count": 110,
   "metadata": {},
   "outputs": [
    {
     "name": "stdout",
     "output_type": "stream",
     "text": [
      "  -------------------------------------------------------\n",
      "  Model complexity with input size torch.Size([1, 1024])\n",
      "  -------------------------------------------------------\n",
      "  Linear (params=263,296, flops=263,296)\n",
      "  -------------------------------------------------------\n",
      "  Total (params=263,296, flops=263,296)\n",
      "  -------------------------------------------------------\n"
     ]
    }
   ],
   "source": [
    "input = torch.randn(1,1024)\n",
    "conv = build_model()\n",
    "num_params, flops = compute_model_complexity(conv, input.size(), verbose=True)"
   ]
  },
  {
   "cell_type": "code",
   "execution_count": 91,
   "metadata": {},
   "outputs": [
    {
     "name": "stdout",
     "output_type": "stream",
     "text": [
      "  -------------------------------------------------------\n",
      "  Model complexity with input size torch.Size([1, 1024, 16, 8])\n",
      "  -------------------------------------------------------\n",
      "  Conv2d (params=3,407,872, flops=436,207,616)\n",
      "  BatchNorm2d (params=4,096, flops=0)\n",
      "  ReLU (params=0, flops=0)\n",
      "  -------------------------------------------------------\n",
      "  Total (params=3,411,968, flops=436,207,616)\n",
      "  -------------------------------------------------------\n"
     ]
    }
   ],
   "source": [
    "num_params, flops = compute_model_complexity(conv, input.size(), verbose=True)"
   ]
  },
  {
   "cell_type": "code",
   "execution_count": null,
   "metadata": {},
   "outputs": [],
   "source": []
  },
  {
   "cell_type": "code",
   "execution_count": null,
   "metadata": {},
   "outputs": [],
   "source": []
  },
  {
   "cell_type": "code",
   "execution_count": null,
   "metadata": {},
   "outputs": [],
   "source": []
  },
  {
   "cell_type": "code",
   "execution_count": null,
   "metadata": {},
   "outputs": [],
   "source": []
  },
  {
   "cell_type": "code",
   "execution_count": null,
   "metadata": {},
   "outputs": [],
   "source": []
  },
  {
   "cell_type": "code",
   "execution_count": null,
   "metadata": {},
   "outputs": [],
   "source": []
  },
  {
   "cell_type": "code",
   "execution_count": null,
   "metadata": {},
   "outputs": [],
   "source": []
  },
  {
   "cell_type": "code",
   "execution_count": null,
   "metadata": {},
   "outputs": [],
   "source": []
  }
 ],
 "metadata": {
  "kernelspec": {
   "display_name": "Python 3",
   "language": "python",
   "name": "python3"
  },
  "language_info": {
   "codemirror_mode": {
    "name": "ipython",
    "version": 3
   },
   "file_extension": ".py",
   "mimetype": "text/x-python",
   "name": "python",
   "nbconvert_exporter": "python",
   "pygments_lexer": "ipython3",
   "version": "3.7.7"
  }
 },
 "nbformat": 4,
 "nbformat_minor": 4
}
